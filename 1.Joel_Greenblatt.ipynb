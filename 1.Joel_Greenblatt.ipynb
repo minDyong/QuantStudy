{
 "cells": [
  {
   "cell_type": "code",
   "execution_count": 1,
   "metadata": {},
   "outputs": [],
   "source": [
    "import xlrd"
   ]
  },
  {
   "cell_type": "markdown",
   "metadata": {},
   "source": [
    "### 1. PER Rank "
   ]
  },
  {
   "cell_type": "code",
   "execution_count": 2,
   "metadata": {},
   "outputs": [],
   "source": [
    "path = 'excel/01_PER_ROA.xlsx'\n",
    "wb = xlrd.open_workbook(path) ## load file"
   ]
  },
  {
   "cell_type": "code",
   "execution_count": 3,
   "metadata": {},
   "outputs": [],
   "source": [
    "per_sh = wb.sheet_by_name('PER') ## load sheet"
   ]
  },
  {
   "cell_type": "code",
   "execution_count": 4,
   "metadata": {},
   "outputs": [],
   "source": [
    "per_dict = {}\n",
    "for i in range(1, per_sh.nrows):\n",
    "    data = per_sh.row_values(i)  ## read row as list\n",
    "    per = data[1]\n",
    "    \n",
    "    if per > 0 :\n",
    "        name = data[0]\n",
    "        per_dict[name] = per\n",
    "    "
   ]
  },
  {
   "cell_type": "code",
   "execution_count": 5,
   "metadata": {},
   "outputs": [],
   "source": [
    "import operator\n",
    "\n",
    "# sorted(per_dict)  ## sorted by key"
   ]
  },
  {
   "cell_type": "code",
   "execution_count": 6,
   "metadata": {},
   "outputs": [],
   "source": [
    "sorted_per = sorted(per_dict.items(), key=operator.itemgetter(1)) # sorted by per\n",
    "\n",
    "## dict.items() : key-value 쌍이 tuple로 구성된 리스트가 리턴\n",
    "## operator.itemgetter(n) : 정렬하고자 하는 키 값을 n 번째 인덱스 기준"
   ]
  },
  {
   "cell_type": "code",
   "execution_count": 7,
   "metadata": {},
   "outputs": [],
   "source": [
    "per_rank = {}\n",
    "for num, firm in enumerate(sorted_per):\n",
    "    per_rank[firm[0]] = num + 1"
   ]
  },
  {
   "cell_type": "code",
   "execution_count": 8,
   "metadata": {},
   "outputs": [
    {
     "data": {
      "text/plain": [
       "1041"
      ]
     },
     "execution_count": 8,
     "metadata": {},
     "output_type": "execute_result"
    }
   ],
   "source": [
    "per_rank['정원엔시스']"
   ]
  },
  {
   "cell_type": "markdown",
   "metadata": {},
   "source": [
    "### 2. ROA Rank "
   ]
  },
  {
   "cell_type": "code",
   "execution_count": 9,
   "metadata": {},
   "outputs": [],
   "source": [
    "roa_sh = wb.sheet_by_name('ROA') ## load sheet\n",
    "\n",
    "roa_dict = {}\n",
    "for i in range(1, roa_sh.nrows):\n",
    "    data = roa_sh.row_values(i)\n",
    "    roa = data[1]\n",
    "    \n",
    "    if roa != '':\n",
    "        name = data[0]\n",
    "        roa_dict[name] = roa    "
   ]
  },
  {
   "cell_type": "code",
   "execution_count": 10,
   "metadata": {},
   "outputs": [
    {
     "data": {
      "text/plain": [
       "'\\nreverse 정렬옵션. \\n- default : ascending(오름차순)\\n- reverse True : 내림차순\\n'"
      ]
     },
     "execution_count": 10,
     "metadata": {},
     "output_type": "execute_result"
    }
   ],
   "source": [
    "sorted_roa = sorted(roa_dict.items(), key=operator.itemgetter(1), reverse=True) \n",
    "'''\n",
    "reverse 정렬옵션. \n",
    "- default : ascending(오름차순)\n",
    "- reverse True : 내림차순\n",
    "'''"
   ]
  },
  {
   "cell_type": "code",
   "execution_count": 11,
   "metadata": {},
   "outputs": [],
   "source": [
    "roa_rank = {}\n",
    "for num, firm in enumerate(sorted_roa):\n",
    "    roa_rank[firm[0]]=num+1"
   ]
  },
  {
   "cell_type": "code",
   "execution_count": 12,
   "metadata": {},
   "outputs": [
    {
     "data": {
      "text/plain": [
       "[('서한', 47),\n",
       " ('골프존', 59),\n",
       " ('동원개발', 68),\n",
       " ('오가닉티코스메틱', 70),\n",
       " ('모베이스', 97),\n",
       " ('테라세미콘', 111),\n",
       " ('제이스텍', 117),\n",
       " ('삼목에스폼', 122),\n",
       " ('영우디에스피', 124),\n",
       " ('HB테크놀러지', 132),\n",
       " ('로스웰', 141),\n",
       " ('한국자산신탁', 164),\n",
       " ('크리스탈신소재', 166),\n",
       " ('롯데케미칼', 169),\n",
       " ('한국토지신탁', 174),\n",
       " ('서호전기', 182),\n",
       " ('대원산업', 188),\n",
       " ('아이에스동서', 191),\n",
       " ('에스에이엠티', 198),\n",
       " ('대양금속', 207),\n",
       " ('차이나하오란', 216),\n",
       " ('완리', 218),\n",
       " ('DMS', 230),\n",
       " ('삼호', 234),\n",
       " ('슈피겐코리아', 245),\n",
       " ('삼양통상', 245),\n",
       " ('현대통신', 252),\n",
       " ('화성산업', 260),\n",
       " ('넥센', 264),\n",
       " ('한창제지', 264)]"
      ]
     },
     "execution_count": 12,
     "metadata": {},
     "output_type": "execute_result"
    }
   ],
   "source": [
    "tot_rank = {}\n",
    "for  name in roa_rank.keys():\n",
    "    if name in per_rank.keys():\n",
    "        tot_rank[name] = roa_rank[name] + per_rank[name]\n",
    "\n",
    "tot_rank = sorted(tot_rank.items(), key=operator.itemgetter(1))\n",
    "tot_rank[0:30]"
   ]
  }
 ],
 "metadata": {
  "kernelspec": {
   "display_name": "py37",
   "language": "python",
   "name": "py37"
  },
  "language_info": {
   "codemirror_mode": {
    "name": "ipython",
    "version": 3
   },
   "file_extension": ".py",
   "mimetype": "text/x-python",
   "name": "python",
   "nbconvert_exporter": "python",
   "pygments_lexer": "ipython3",
   "version": "3.7.7"
  }
 },
 "nbformat": 4,
 "nbformat_minor": 2
}
