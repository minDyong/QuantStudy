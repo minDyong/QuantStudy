{
 "cells": [
  {
   "cell_type": "markdown",
   "metadata": {},
   "source": [
    "## 1. Quant\n",
    "- Quantative(계량적인)의 준말.\n",
    "- 주로 금융시장에서 옵션이나 스왑 등 파생상품과 관련되어 쓰이는 용어\n",
    "  + 파생상품: 주식, 이자율, 금, 나중에는 신용도까지 어떠한 금융상품의 변동성과 리스크를 주제로 개발된 금융 상품\n",
    "- 파생상품의 구조를 기획하여 만들거나 가치를 산정하는 직업\n",
    "  + 1979~1980 년대, Wall Street 에서 2008년 금융위기 이전까지 금융회사에서 계속해서 발전됨.\n",
    "- 최근에는 이러한 직업을 가리키는 의미보다는 객관적인 수치적 지표를 이용하여 투자에 있어 감이나 인간적인 편향을 제거하는 계량 투자 방법론들을 파이썬으로 적용하는 것.\n",
    "  + 계량 투자(퀀트투자) \n",
    "    * 주식을 골라 포트폴리오를 구성하는 방법에 대해 계량적인 전략을 짜는 것\n",
    "    * 자신의 주관이나 편향을 배제한 채 객관적인 수치와 데이터를 바탕으로 만들어진 규칙에 근거한 투자법.\n",
    "  + 알고리즘 트레이딩 \n",
    "    * 상품을 매매하는 것에 관해서 전략을 짜서 자동화해 프로그램에 전적으로 맞기는 것.\n",
    "    \n",
    "## 2. Joel Greenblatt 의 마법공식\n",
    "- 좋은 주식을 싸게 사는 방법을 공식화 시킨 것.\n",
    "  + 싸고 좋은 주식이란? **< PER이 낮을수록 싸고 ROA가 높을수록 좋은 주식 >**\n",
    "\n",
    "### 적용 방법\n",
    "- 준비물: 데이터(금융데이터) , 정량화된 룰 \n",
    "- 과거 특정 시점의 PER과 ROA 데이터를 가지고 PER이 낮고 ROA가 높은 주식을 고른 뒤, 동일한 비율로 투자하여 일정 시간 뒤 성과를 살펴보기\n",
    "  + 경제 상황 등 여러 가지 변수를 고려하고 종합적으로 판단하는 능력이 필요하지만 여기서는 **<정량화 할 수 있는 요소>**에만 집중.\n",
    "\n"
   ]
  },
  {
   "cell_type": "code",
   "execution_count": null,
   "metadata": {},
   "outputs": [],
   "source": []
  }
 ],
 "metadata": {
  "kernelspec": {
   "display_name": "py37",
   "language": "python",
   "name": "py37"
  },
  "language_info": {
   "codemirror_mode": {
    "name": "ipython",
    "version": 3
   },
   "file_extension": ".py",
   "mimetype": "text/x-python",
   "name": "python",
   "nbconvert_exporter": "python",
   "pygments_lexer": "ipython3",
   "version": "3.7.7"
  }
 },
 "nbformat": 4,
 "nbformat_minor": 2
}
